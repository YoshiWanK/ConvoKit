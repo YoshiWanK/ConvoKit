{
 "cells": [
  {
   "cell_type": "markdown",
   "metadata": {},
   "source": [
    "## Converting the CANDOR Corpus into ConvoKit format \n",
    "\n",
    "This notebook is to help people working with CANDOR Corpus to quickly transform it into ConvoKit format.\n",
    "You can request CANDOR Corpus from: https://betterup-data-requests.herokuapp.com/ and run through this notebook to get CANDOR Corpus in ConvoKit format!\n",
    "\n",
    "Details about the construction of the corpus are available in the original paper (pleace cite this paper if you use the corpus):\n",
    "[Andrew Reece et al. ,The CANDOR corpus: Insights from a large multimodal dataset of naturalistic conversation. Sci. Adv.9,eadf3197(2023)](https://www.science.org/doi/10.1126/sciadv.adf3197).\n"
   ]
  },
  {
   "cell_type": "code",
   "execution_count": 1,
   "metadata": {},
   "outputs": [],
   "source": [
    "from tqdm import tqdm\n",
    "from convokit import Corpus, Speaker, Utterance\n",
    "from collections import defaultdict, Counter\n",
    "import pandas as pd\n",
    "import numpy as np"
   ]
  },
  {
   "cell_type": "markdown",
   "metadata": {},
   "source": [
    "Below you should replace the CANDOR_PATH to the CANDOR Corpus with your own local directory path. Note that inside the CANDOR Corpus directory, there should be 3 files, a survey.tsv plus two transcript_method.tsv, and another directory, raw, which contains all the transcriptions in three methods."
   ]
  },
  {
   "cell_type": "code",
   "execution_count": 2,
   "metadata": {},
   "outputs": [],
   "source": [
    "# replace the directory with where your CANDOR corpus is saved\n",
    "CANDOR_PATH = '<YOUR CANDOR CORPUS DIRECTORY>'\n",
    "# ls: raw  survey.tsv  transcript_backbiter.tsv  transcript_cliffhanger.tsv"
   ]
  },
  {
   "cell_type": "markdown",
   "metadata": {},
   "source": [
    "Next, you should pick the transcription type. By default, this is \"cliffhanger\" which in our experience gives the easiest to read version of the transcripts.\n",
    "\n",
    "According to the paper, utterances are processed in three different algorithms to parse speaker turns into utterances: Audiophile, Cliffhanger, and Backbiter. Please refer back to the paper for more detailed description on how the three algorithms are implemented.\n",
    "\n",
    "- Audiophile: A turn is when one speaker starts talking until the other speaker starts speaking\n",
    "- Cliffhanger: A turns is one full sentence said by one speaker based on terminal punctuation marks (periods, question marks, and exclamation points).\n",
    "- Backbiter: A turn is what one speaker starts talking until the other speaker speaks a non-backchannel words (example backchannel words: \"mhm\", \"yeah\", \"exactly\", etc.)\n",
    "\n",
    "Note that, for different algorithms used to process utterances in transcripts, Utterance-level metadata will be different.\n"
   ]
  },
  {
   "cell_type": "code",
   "execution_count": 3,
   "metadata": {},
   "outputs": [],
   "source": [
    "TRANSCRIPTION_TYPE = \"cliffhanger\" # or \"backbiter\" or \"audiophile\""
   ]
  },
  {
   "cell_type": "code",
   "execution_count": 4,
   "metadata": {},
   "outputs": [],
   "source": [
    "survey_path = CANDOR_PATH + \"survey.tsv\"\n",
    "survey = pd.read_csv(survey_path, delimiter='\\t')"
   ]
  },
  {
   "cell_type": "code",
   "execution_count": null,
   "metadata": {},
   "outputs": [],
   "source": [
    "from datetime import datetime\n",
    "# Convert the strings into datetime objects\n",
    "date_format = \"%Y-%m-%d\"\n",
    "for i, date in enumerate(survey['date']):\n",
    "    survey['date'][i] = datetime.strptime(date, date_format)"
   ]
  },
  {
   "cell_type": "code",
   "execution_count": 6,
   "metadata": {},
   "outputs": [],
   "source": [
    "survey = survey.sort_values(by='date')"
   ]
  },
  {
   "cell_type": "code",
   "execution_count": 7,
   "metadata": {},
   "outputs": [
    {
     "data": {
      "text/html": [
       "<div>\n",
       "<style scoped>\n",
       "    .dataframe tbody tr th:only-of-type {\n",
       "        vertical-align: middle;\n",
       "    }\n",
       "\n",
       "    .dataframe tbody tr th {\n",
       "        vertical-align: top;\n",
       "    }\n",
       "\n",
       "    .dataframe thead th {\n",
       "        text-align: right;\n",
       "    }\n",
       "</style>\n",
       "<table border=\"1\" class=\"dataframe\">\n",
       "  <thead>\n",
       "    <tr style=\"text-align: right;\">\n",
       "      <th></th>\n",
       "      <th>Unnamed: 0</th>\n",
       "      <th>user_id</th>\n",
       "      <th>partner_id</th>\n",
       "      <th>convo_id</th>\n",
       "      <th>date</th>\n",
       "      <th>survey_duration_in_seconds</th>\n",
       "      <th>time_zone</th>\n",
       "      <th>pre_affect</th>\n",
       "      <th>pre_arousal</th>\n",
       "      <th>technical_quality</th>\n",
       "      <th>...</th>\n",
       "      <th>my_conscientious</th>\n",
       "      <th>my_neurotic</th>\n",
       "      <th>my_open</th>\n",
       "      <th>your_extraversion</th>\n",
       "      <th>your_agreeable</th>\n",
       "      <th>your_conscientious</th>\n",
       "      <th>your_neurotic</th>\n",
       "      <th>your_open</th>\n",
       "      <th>who_i_talked_to_most_past24</th>\n",
       "      <th>most_common_format_past24</th>\n",
       "    </tr>\n",
       "  </thead>\n",
       "  <tbody>\n",
       "    <tr>\n",
       "      <th>22</th>\n",
       "      <td>0</td>\n",
       "      <td>5ad7c075c25ea0000188486b</td>\n",
       "      <td>5de5538f8fde1c4dbc951498</td>\n",
       "      <td>01849238-f5f0-487e-bca4-7b4fe0c9625c</td>\n",
       "      <td>2020-01-07 00:00:00</td>\n",
       "      <td>6001</td>\n",
       "      <td>NaN</td>\n",
       "      <td>7.0</td>\n",
       "      <td>7.0</td>\n",
       "      <td>2.0</td>\n",
       "      <td>...</td>\n",
       "      <td>2.333333</td>\n",
       "      <td>3.0</td>\n",
       "      <td>4.333333</td>\n",
       "      <td>4.333333</td>\n",
       "      <td>3.666667</td>\n",
       "      <td>3.333333</td>\n",
       "      <td>2.333333</td>\n",
       "      <td>4.000000</td>\n",
       "      <td>NaN</td>\n",
       "      <td>NaN</td>\n",
       "    </tr>\n",
       "    <tr>\n",
       "      <th>471</th>\n",
       "      <td>1</td>\n",
       "      <td>5d0a731abf09e10001c3f3d8</td>\n",
       "      <td>5acba4a15cd10500016280ca</td>\n",
       "      <td>2673c393-67e0-4880-b56f-d6b2696f1631</td>\n",
       "      <td>2020-01-07 00:00:00</td>\n",
       "      <td>2711</td>\n",
       "      <td>NaN</td>\n",
       "      <td>6.0</td>\n",
       "      <td>5.0</td>\n",
       "      <td>1.0</td>\n",
       "      <td>...</td>\n",
       "      <td>4.000000</td>\n",
       "      <td>3.0</td>\n",
       "      <td>4.000000</td>\n",
       "      <td>1.666667</td>\n",
       "      <td>4.000000</td>\n",
       "      <td>3.333333</td>\n",
       "      <td>3.666667</td>\n",
       "      <td>3.333333</td>\n",
       "      <td>NaN</td>\n",
       "      <td>NaN</td>\n",
       "    </tr>\n",
       "  </tbody>\n",
       "</table>\n",
       "<p>2 rows × 223 columns</p>\n",
       "</div>"
      ],
      "text/plain": [
       "     Unnamed: 0                   user_id                partner_id  \\\n",
       "22            0  5ad7c075c25ea0000188486b  5de5538f8fde1c4dbc951498   \n",
       "471           1  5d0a731abf09e10001c3f3d8  5acba4a15cd10500016280ca   \n",
       "\n",
       "                                 convo_id                 date  \\\n",
       "22   01849238-f5f0-487e-bca4-7b4fe0c9625c  2020-01-07 00:00:00   \n",
       "471  2673c393-67e0-4880-b56f-d6b2696f1631  2020-01-07 00:00:00   \n",
       "\n",
       "     survey_duration_in_seconds  time_zone  pre_affect  pre_arousal  \\\n",
       "22                         6001        NaN         7.0          7.0   \n",
       "471                        2711        NaN         6.0          5.0   \n",
       "\n",
       "     technical_quality  ...  my_conscientious  my_neurotic   my_open  \\\n",
       "22                 2.0  ...          2.333333          3.0  4.333333   \n",
       "471                1.0  ...          4.000000          3.0  4.000000   \n",
       "\n",
       "     your_extraversion  your_agreeable  your_conscientious  your_neurotic  \\\n",
       "22            4.333333        3.666667            3.333333       2.333333   \n",
       "471           1.666667        4.000000            3.333333       3.666667   \n",
       "\n",
       "     your_open  who_i_talked_to_most_past24 most_common_format_past24  \n",
       "22    4.000000                          NaN                       NaN  \n",
       "471   3.333333                          NaN                       NaN  \n",
       "\n",
       "[2 rows x 223 columns]"
      ]
     },
     "execution_count": 7,
     "metadata": {},
     "output_type": "execute_result"
    }
   ],
   "source": [
    "survey.head(2)"
   ]
  },
  {
   "cell_type": "markdown",
   "metadata": {},
   "source": [
    "We create a speaker list by extracting all speakers from the survey, which is filled before and after by every speaker who conducted video calls during the experiment. It is required when when CANDOR corpus is collecting data from participants."
   ]
  },
  {
   "cell_type": "code",
   "execution_count": 8,
   "metadata": {},
   "outputs": [
    {
     "data": {
      "text/plain": [
       "1454"
      ]
     },
     "execution_count": 8,
     "metadata": {},
     "output_type": "execute_result"
    }
   ],
   "source": [
    "all_speakers = list(set(survey['user_id'].to_list() + survey['partner_id'].to_list()))\n",
    "len(all_speakers)"
   ]
  },
  {
   "cell_type": "code",
   "execution_count": 9,
   "metadata": {},
   "outputs": [],
   "source": [
    "corpus_speakers = {k: Speaker(id = k, meta = {}) for k in all_speakers}"
   ]
  },
  {
   "cell_type": "code",
   "execution_count": 10,
   "metadata": {},
   "outputs": [
    {
     "name": "stdout",
     "output_type": "stream",
     "text": [
      "number of speakers in the data = 1454\n"
     ]
    }
   ],
   "source": [
    "print(\"number of speakers in the data = {}\".format(len(corpus_speakers)))"
   ]
  },
  {
   "cell_type": "markdown",
   "metadata": {},
   "source": [
    "### Creating Utterance List\n",
    "\n",
    "Now, we get extract all utterances from the corpus, conversation by conversation. Here, each conversation is stored as an individual folder in the \"raw\" folder. Thus, we go into it, and extract one by one.\n",
    "\n",
    "Note that, there are three versions of transcripts for each conversation, corresponding to three different ways audio transcriptions are processed. For consistency, we recommend sticking with one type of transcription for corpus construction here. The three types are Audiophile, Cliffhanger, Backbiter. Modify the \"transcription_type\" variable for your intended processing method. Refer back to the paper for details on what each transcription processing method is about. \n",
    "\n",
    "CANDOR corpus paper: https://www.science.org/doi/epdf/10.1126/sciadv.adf3197"
   ]
  },
  {
   "cell_type": "code",
   "execution_count": 11,
   "metadata": {},
   "outputs": [
    {
     "data": {
      "text/plain": [
       "1650"
      ]
     },
     "execution_count": 11,
     "metadata": {},
     "output_type": "execute_result"
    }
   ],
   "source": [
    "import os\n",
    "conversations_list_path = CANDOR_PATH + \"raw/\"\n",
    "conversations = [d for d in os.listdir(conversations_list_path) if os.path.isdir(os.path.join(conversations_list_path, d))]\n",
    "len(conversations)"
   ]
  },
  {
   "cell_type": "markdown",
   "metadata": {},
   "source": [
    "Note that the fields of ConvoKit Utterance objects are:\n",
    "Utterance(id=..., speaker =..., conversation_id =..., reply_to=..., timestamp=..., text =..., meta =...)"
   ]
  },
  {
   "cell_type": "code",
   "execution_count": 12,
   "metadata": {},
   "outputs": [
    {
     "name": "stdout",
     "output_type": "stream",
     "text": [
      "527869\n"
     ]
    }
   ],
   "source": [
    "utt_id_count = 0\n",
    "corpus_utterances = {}\n",
    "for convo_id in conversations:\n",
    "    meta_path = f\"{conversations_list_path}{convo_id}/metadata.json\"\n",
    "    transcription_path = f\"{conversations_list_path}{convo_id}/transcription/transcript_{TRANSCRIPTION_TYPE}.csv\"\n",
    "    transcription = pd.read_csv(transcription_path)\n",
    "    for index, row in transcription.iterrows():\n",
    "        reply_to = None if row['turn_id'] == 0 else utt_id_count-1\n",
    "        meta = {}\n",
    "        for k, v in row.items():\n",
    "            if k != \"speaker\" and k != \"utterance\":\n",
    "                meta.update({k : v})\n",
    "        utt = Utterance(id=str(utt_id_count), speaker=corpus_speakers[row['speaker']], conversation_id=str(convo_id), reply_to=str(reply_to), timestamp=row['start'], text=row['utterance'], meta=meta)\n",
    "        corpus_utterances[utt_id_count] = utt\n",
    "        utt_id_count += 1\n",
    "\n",
    "print(\"total number of utterances: \", utt_id_count)"
   ]
  },
  {
   "cell_type": "code",
   "execution_count": 13,
   "metadata": {},
   "outputs": [],
   "source": [
    "utterance_list = corpus_utterances.values()"
   ]
  },
  {
   "cell_type": "code",
   "execution_count": 14,
   "metadata": {},
   "outputs": [],
   "source": [
    "CANDOR_corpus = Corpus(utterances=utterance_list)"
   ]
  },
  {
   "cell_type": "markdown",
   "metadata": {},
   "source": [
    "### Updating Conversation Info\n",
    "\n",
    "Here, we update the conversation info, especially the metadata from surveys participants filled. Metadata for each conversation correspond to the answer the two speakers gave in the surveys before and after that conversation.\n",
    "\n",
    "For each conversation, we got 1 survey from each conversation participant, and as this conversation is 2 people video calling, we got 2 surveys per conversation. We decided to organize the metadata in the following way:\n",
    "\n",
    "convo.meta = {\"survey field name\" : {\"sp_A id\" : \"sp_A survey value\", \"sp_B\" : \"sp_B survey value\"} ... }\n",
    "\n",
    "We choose this way or organizing metadata, as we usually focus on several survey fields, and analysis the values from two participants. This format allow us to quickly extract such information. You can also feel free to modify the format to suit your research / work needs.\n",
    "\n",
    "The ConvoKit metadata preserve the names from the survey of the original experiment, explained in the paper. For more explaination on what each survey field name is, refer to BetterUp CANDOR Corpus Data Dictionary: https://docs.google.com/spreadsheets/d/1ADoaajRsw63WpM3zS2xyGC1YS5WM_IuhFZ94W84DDls/edit#gid=997152539"
   ]
  },
  {
   "cell_type": "code",
   "execution_count": 15,
   "metadata": {},
   "outputs": [
    {
     "name": "stdout",
     "output_type": "stream",
     "text": [
      "number of conversations in the dataset = 1650\n"
     ]
    }
   ],
   "source": [
    "print(\"number of conversations in the dataset = {}\".format(len(CANDOR_corpus.get_conversation_ids())))"
   ]
  },
  {
   "cell_type": "markdown",
   "metadata": {},
   "source": [
    "Below we see how the survey from two participants of a random conversation looks like"
   ]
  },
  {
   "cell_type": "code",
   "execution_count": 16,
   "metadata": {},
   "outputs": [
    {
     "data": {
      "text/html": [
       "<div>\n",
       "<style scoped>\n",
       "    .dataframe tbody tr th:only-of-type {\n",
       "        vertical-align: middle;\n",
       "    }\n",
       "\n",
       "    .dataframe tbody tr th {\n",
       "        vertical-align: top;\n",
       "    }\n",
       "\n",
       "    .dataframe thead th {\n",
       "        text-align: right;\n",
       "    }\n",
       "</style>\n",
       "<table border=\"1\" class=\"dataframe\">\n",
       "  <thead>\n",
       "    <tr style=\"text-align: right;\">\n",
       "      <th></th>\n",
       "      <th>Unnamed: 0</th>\n",
       "      <th>user_id</th>\n",
       "      <th>partner_id</th>\n",
       "      <th>convo_id</th>\n",
       "      <th>date</th>\n",
       "      <th>survey_duration_in_seconds</th>\n",
       "      <th>time_zone</th>\n",
       "      <th>pre_affect</th>\n",
       "      <th>pre_arousal</th>\n",
       "      <th>technical_quality</th>\n",
       "      <th>...</th>\n",
       "      <th>my_conscientious</th>\n",
       "      <th>my_neurotic</th>\n",
       "      <th>my_open</th>\n",
       "      <th>your_extraversion</th>\n",
       "      <th>your_agreeable</th>\n",
       "      <th>your_conscientious</th>\n",
       "      <th>your_neurotic</th>\n",
       "      <th>your_open</th>\n",
       "      <th>who_i_talked_to_most_past24</th>\n",
       "      <th>most_common_format_past24</th>\n",
       "    </tr>\n",
       "  </thead>\n",
       "  <tbody>\n",
       "    <tr>\n",
       "      <th>1562</th>\n",
       "      <td>0</td>\n",
       "      <td>5b6cb3049ee1a50001c5ef0f</td>\n",
       "      <td>5d3356323e1190001909339b</td>\n",
       "      <td>79912e48-076a-4cb0-82e2-e43a932d0cd3</td>\n",
       "      <td>2020-08-12 00:00:00</td>\n",
       "      <td>3723</td>\n",
       "      <td>8.0</td>\n",
       "      <td>5.0</td>\n",
       "      <td>1.0</td>\n",
       "      <td>1.0</td>\n",
       "      <td>...</td>\n",
       "      <td>3.333333</td>\n",
       "      <td>4.0</td>\n",
       "      <td>4.666667</td>\n",
       "      <td>3.333333</td>\n",
       "      <td>3.666667</td>\n",
       "      <td>3.000000</td>\n",
       "      <td>2.666667</td>\n",
       "      <td>4.0</td>\n",
       "      <td>NaN</td>\n",
       "      <td>NaN</td>\n",
       "    </tr>\n",
       "    <tr>\n",
       "      <th>1563</th>\n",
       "      <td>1</td>\n",
       "      <td>5d3356323e1190001909339b</td>\n",
       "      <td>5b6cb3049ee1a50001c5ef0f</td>\n",
       "      <td>79912e48-076a-4cb0-82e2-e43a932d0cd3</td>\n",
       "      <td>2020-08-12 00:00:00</td>\n",
       "      <td>6264</td>\n",
       "      <td>5.0</td>\n",
       "      <td>7.0</td>\n",
       "      <td>7.0</td>\n",
       "      <td>1.0</td>\n",
       "      <td>...</td>\n",
       "      <td>2.333333</td>\n",
       "      <td>3.0</td>\n",
       "      <td>3.000000</td>\n",
       "      <td>3.333333</td>\n",
       "      <td>3.333333</td>\n",
       "      <td>2.333333</td>\n",
       "      <td>2.333333</td>\n",
       "      <td>4.0</td>\n",
       "      <td>NaN</td>\n",
       "      <td>NaN</td>\n",
       "    </tr>\n",
       "  </tbody>\n",
       "</table>\n",
       "<p>2 rows × 223 columns</p>\n",
       "</div>"
      ],
      "text/plain": [
       "      Unnamed: 0                   user_id                partner_id  \\\n",
       "1562           0  5b6cb3049ee1a50001c5ef0f  5d3356323e1190001909339b   \n",
       "1563           1  5d3356323e1190001909339b  5b6cb3049ee1a50001c5ef0f   \n",
       "\n",
       "                                  convo_id                 date  \\\n",
       "1562  79912e48-076a-4cb0-82e2-e43a932d0cd3  2020-08-12 00:00:00   \n",
       "1563  79912e48-076a-4cb0-82e2-e43a932d0cd3  2020-08-12 00:00:00   \n",
       "\n",
       "      survey_duration_in_seconds  time_zone  pre_affect  pre_arousal  \\\n",
       "1562                        3723        8.0         5.0          1.0   \n",
       "1563                        6264        5.0         7.0          7.0   \n",
       "\n",
       "      technical_quality  ...  my_conscientious  my_neurotic   my_open  \\\n",
       "1562                1.0  ...          3.333333          4.0  4.666667   \n",
       "1563                1.0  ...          2.333333          3.0  3.000000   \n",
       "\n",
       "      your_extraversion  your_agreeable  your_conscientious  your_neurotic  \\\n",
       "1562           3.333333        3.666667            3.000000       2.666667   \n",
       "1563           3.333333        3.333333            2.333333       2.333333   \n",
       "\n",
       "      your_open  who_i_talked_to_most_past24 most_common_format_past24  \n",
       "1562        4.0                          NaN                       NaN  \n",
       "1563        4.0                          NaN                       NaN  \n",
       "\n",
       "[2 rows x 223 columns]"
      ]
     },
     "execution_count": 16,
     "metadata": {},
     "output_type": "execute_result"
    }
   ],
   "source": [
    "convo = CANDOR_corpus.random_conversation()\n",
    "survey[survey[\"convo_id\"] == convo.id]"
   ]
  },
  {
   "cell_type": "code",
   "execution_count": 17,
   "metadata": {},
   "outputs": [],
   "source": [
    "# add conversation level metadata\n",
    "for convo in CANDOR_corpus.iter_conversations():\n",
    "    convo_id = convo.id\n",
    "    row1 = survey[survey['convo_id'] == convo_id].iloc[0]\n",
    "    row2 = survey[survey['convo_id'] == convo_id].iloc[1]\n",
    "    sp_A = row1['user_id']\n",
    "    sp_B = row2['user_id']\n",
    "    metadata = {}\n",
    "    for field in list(row1.index[1:]):\n",
    "        if field != \"convo_id\" and field != 'user_id':\n",
    "            field_values = {sp_A : row1[field], sp_B : row2[field]}\n",
    "            metadata.update({field : field_values})\n",
    "    convo.meta = metadata"
   ]
  },
  {
   "cell_type": "markdown",
   "metadata": {},
   "source": [
    "From all the survey fields, most are conversation specific - meaning the speaker fills the survey based on this conversation's experience. However, we also filtered out some demographical information about each speaker from the survey, and store them also in speaker level metadata (refer to sp_meta_lst list for selected speaker level information).\n",
    "\n",
    "Note: In a few cases participants report conflicting values across different surveys for the demographic questions. In those cases the metadata in the Speaker reflects the first given non-Nan answer.  The per-survey answers are available in the conversation metadata."
   ]
  },
  {
   "cell_type": "code",
   "execution_count": 60,
   "metadata": {},
   "outputs": [],
   "source": [
    "sp_meta_lst = ['sex', 'politics', 'race', 'edu', 'employ', 'employ_7_TEXT', 'age']\n",
    "\n",
    "for sp in CANDOR_corpus.iter_speakers():\n",
    "    df = survey[survey['user_id'] == sp.id]\n",
    "    df = df.sort_values(by='date')\n",
    "    for field_name in sp_meta_lst:\n",
    "        field_values = df[field_name].tolist()\n",
    "        valid = False\n",
    "        for x in field_values:\n",
    "            if not valid:\n",
    "                if not pd.isna(x):\n",
    "                    sp.add_meta(field_name, x)\n",
    "                    valid = True\n",
    "        if not valid:\n",
    "            sp.add_meta(field_name, np.nan)"
   ]
  },
  {
   "cell_type": "markdown",
   "metadata": {},
   "source": [
    "specially, the 'employ' survey field is multiple choice based with numerical numbers associated to answers in order of the following list. We replace the numerical number with the corresponding answer value. If the participant answered 'other' for the 'employ' field, they will be asked to answer 'employ_7_TEXT', which is a text based answer. Thus, we replace 'employ' with the answer from 'employ_7_TEXT'."
   ]
  },
  {
   "cell_type": "code",
   "execution_count": 62,
   "metadata": {},
   "outputs": [],
   "source": [
    "employment_lst = ['employed', 'unemployed', 'temp_leave', 'disabled', 'retired', 'homemaker', 'other']\n",
    "\n",
    "for sp in CANDOR_corpus.iter_speakers():\n",
    "    if pd.isna(sp.meta['employ']):\n",
    "        continue\n",
    "    employ = int(sp.meta['employ'])\n",
    "    if employ != 7:\n",
    "        sp.meta['employ'] = employment_lst[employ]\n",
    "    else:\n",
    "        sp.meta['employ'] = sp.meta['employ_7_TEXT'] if not pd.isna(sp.meta['employ_7_TEXT']) else 'other'"
   ]
  },
  {
   "cell_type": "code",
   "execution_count": 71,
   "metadata": {},
   "outputs": [],
   "source": [
    "CANDOR_corpus.delete_metadata(obj_type='speaker', attribute='employ_7_TEXT')"
   ]
  },
  {
   "cell_type": "code",
   "execution_count": 72,
   "metadata": {},
   "outputs": [
    {
     "data": {
      "text/plain": [
       "ConvoKitMeta({'sex': 'male', 'politics': 6.0, 'race': 'white', 'edu': 'some_college', 'employ': 'temp_leave', 'age': 21.0})"
      ]
     },
     "execution_count": 72,
     "metadata": {},
     "output_type": "execute_result"
    }
   ],
   "source": [
    "sp = CANDOR_corpus.random_speaker()\n",
    "sp.meta"
   ]
  },
  {
   "cell_type": "markdown",
   "metadata": {},
   "source": [
    "### Save the Corpus"
   ]
  },
  {
   "cell_type": "code",
   "execution_count": null,
   "metadata": {},
   "outputs": [],
   "source": [
    "SAVE_PATH = '<YOUR DIRECTORY TO SAVE CORPUS>'\n",
    "CANDOR_corpus.dump(f\"CANDOR-corpus-{TRANSCRIPTION_TYPE}\", base_path=SAVE_PATH)"
   ]
  },
  {
   "cell_type": "code",
   "execution_count": null,
   "metadata": {},
   "outputs": [],
   "source": [
    "from convokit import meta_index\n",
    "meta_index(filename = f\"{SAVE_PATH}/CANDOR-corpus-{TRANSCRIPTION_TYPE}\")"
   ]
  },
  {
   "cell_type": "markdown",
   "metadata": {},
   "source": [
    "### Retrieve Corpus"
   ]
  },
  {
   "cell_type": "code",
   "execution_count": null,
   "metadata": {},
   "outputs": [],
   "source": [
    "my_CANDOR_corpus = Corpus(filename=f\"{SAVE_PATH}/CANDOR-corpus-{TRANSCRIPTION_TYPE}\")"
   ]
  },
  {
   "cell_type": "code",
   "execution_count": null,
   "metadata": {},
   "outputs": [],
   "source": [
    "my_CANDOR_corpus.print_summary_stats()"
   ]
  },
  {
   "cell_type": "code",
   "execution_count": null,
   "metadata": {},
   "outputs": [],
   "source": []
  }
 ],
 "metadata": {
  "kernelspec": {
   "display_name": "Python 3 (ipykernel)",
   "language": "python",
   "name": "python3"
  },
  "language_info": {
   "codemirror_mode": {
    "name": "ipython",
    "version": 3
   },
   "file_extension": ".py",
   "mimetype": "text/x-python",
   "name": "python",
   "nbconvert_exporter": "python",
   "pygments_lexer": "ipython3",
   "version": "3.8.3"
  }
 },
 "nbformat": 4,
 "nbformat_minor": 4
}
